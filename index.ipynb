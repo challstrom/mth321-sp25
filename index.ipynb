{
  "cells": [
    {
      "cell_type": "raw",
      "metadata": {},
      "source": [
        "---\n",
        "title: \"Welcome!\"\n",
        "---"
      ],
      "id": "610a3d4b"
    },
    {
      "cell_type": "markdown",
      "metadata": {},
      "source": [
        "# Welcome! {.unnumbered}\n",
        "\n",
        "Before we get into the details of the course, I want to share with you a few thoughts about my general approach to teaching and learning.  My main goal as the professor in this course is to help you succeed, not just in learning the material but in growing as a learner.  Learning takes effort, a willingness to try something that may not work, and an openness to learning from feedback.; my job is to create an environment in which all of you are supported in these aspects.\n",
        "\n",
        "I am looking forward to getting to know each of you this semester and it is my sincere goal to make our time together (in class and out) productive and engaging.  I want you to feel comfortable coming to me with any questions or concerns that arise, mathematical and otherwise.   If you encounter any issues that interfere with your learning, whether they are physical, mental, emotional, economic, or otherwise, or if you experience discrimination or mistreatment of any sort, please contact me immediately.  Other resources for support include the Chair of the Math Department or the CAS Dean of Students.\n",
        "\n",
        "\n",
        "\\begin{tcolorbox}[colback=blue!7!white, before = \\vspace{\\baselineskip}]\n",
        "\\section{General Course Information}\n",
        "\n",
        "is this included in the html output at all?  it seems not!\n",
        "\\end{tcolorbox}\n",
        "\n",
        "\n",
        "\n",
        "```{css, echo = TRUE}\n",
        ".red {\n",
        "border: 3px solid blue;\n",
        "border-color: red\n",
        "}\n",
        "```\n",
        "\n",
        "\n",
        "\n",
        "## Another section!\n",
        "\n",
        "check it out"
      ],
      "id": "8fddeed4"
    }
  ],
  "metadata": {
    "kernelspec": {
      "display_name": "Python 3",
      "language": "python",
      "name": "python3"
    }
  },
  "nbformat": 4,
  "nbformat_minor": 5
}